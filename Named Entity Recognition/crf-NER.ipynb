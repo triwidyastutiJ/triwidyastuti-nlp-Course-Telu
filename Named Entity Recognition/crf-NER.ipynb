{
 "cells": [
  {
   "cell_type": "code",
   "execution_count": 8,
   "metadata": {},
   "outputs": [],
   "source": [
    "from itertools import chain\n",
    "import nltk\n",
    "from sklearn.metrics import classification_report, confusion_matrix\n",
    "from sklearn.preprocessing import LabelBinarizer\n",
    "import sklearn\n",
    "import pycrfsuite\n",
    "import pandas as pd"
   ]
  },
  {
   "cell_type": "code",
   "execution_count": 9,
   "metadata": {},
   "outputs": [],
   "source": [
    "data_train = pd.read_csv(\"dataset.tsv\", delimiter=\"\\t\", header=None)\n",
    "data_test = pd.read_csv(\"data_test.tsv\", delimiter=\"\\t\", header=None)"
   ]
  },
  {
   "cell_type": "code",
   "execution_count": 10,
   "metadata": {},
   "outputs": [],
   "source": [
    "train_sents = []\n",
    "test_sents = []\n",
    "sent = []"
   ]
  },
  {
   "cell_type": "code",
   "execution_count": 11,
   "metadata": {},
   "outputs": [
    {
     "name": "stdout",
     "output_type": "stream",
     "text": [
      "Train sent: [('SEA', 'NN', 'B-ORG'), ('GAMES', 'NN', 'I-ORG'), ('2019', 'CDP', 'I-ORG'), ('merupakan', 'VBT', 'O'), ('sebuah', 'NN', 'O'), ('Pesta', 'NN', 'B-ORG'), ('Olahraga', 'NN', 'I-ORG'), ('Asia', 'NNP', 'I-ORG'), ('Tenggara', 'NN', 'I-ORG'), ('2019', 'NN', 'I-ORG'), ('yang', 'SC', 'O'), ('akan', 'MD', 'O'), ('diselenggarakan', 'VBT', 'O'), ('di', 'IN', 'O'), ('Manila', 'NNP', 'B-LOC')]\n",
      "Train sent: [('ibu', 'NNP', 'O'), ('kota', 'NN', 'O'), ('dari', 'IN', 'O'), ('negara', 'NN', 'O'), ('Filipina', 'NN', 'B-LOC')]\n",
      "Train sent: [('Pesta', 'NN', 'B-ORG'), ('Olahraga', 'NN', 'I-ORG'), ('Asia', 'NNP', 'I-ORG'), ('Tenggara', 'NN', 'I-ORG'), ('kali', 'NN', 'O'), ('ini', 'DT', 'O'), ('akan', 'MD', 'O'), ('menjadi', 'VBT', 'O'), ('Pesta', 'NN', 'B-ORG'), ('Olahraga', 'NN', 'I-ORG'), ('Asia', 'NNP', 'I-ORG'), ('Tenggara', 'NN', 'I-ORG'), ('yang', 'SC', 'O'), ('ke', 'IN', 'O')]\n",
      "Train sent: [('30', 'CDP', 'O'), ('(', 'OP', 'O'), ('tiga', 'CDP', 'O'), ('puluh)', 'CDP', 'O')]\n",
      "Train sent: [('Pesta', 'NN', 'B-ORG'), ('Olahraga', 'NN', 'I-ORG'), ('Asia', 'NNP', 'I-ORG'), ('Tenggara', 'NN', 'I-ORG'), ('ini', 'DT', 'O'), ('akan', 'MD', 'O'), ('diselenggarakan', 'VBT', 'O'), ('di', 'IN', 'O'), ('Quirino', 'NNP', 'B-LOC'), ('Grandstand', 'NNP', 'I-LOC')]\n",
      "Train sent: [('Rizal', 'NNP', 'B-PER'), ('Park', 'NNP', 'I-PER')]\n",
      "Train sent: [('Ini', 'DT', 'O'), ('akan', 'MD', 'O'), ('menjadi', 'VBT', 'O'), ('kali', 'NN', 'O'), ('ke', 'IN', 'O')]\n",
      "Train sent: [('empat', 'CDP', 'O'), ('dalam', 'IN', 'O'), ('sejarah', 'NN', 'O'), ('Pesta', 'NN', 'B-ORG'), ('Olahraga', 'NN', 'I-ORG'), ('Asia', 'NNP', 'I-ORG'), ('Tenggara', 'NN', 'I-ORG')]\n",
      "Train sent: [('Filipina', 'NNP', 'B-LOC'), ('menggelar', 'VBT', 'O'), ('Pesta', 'NN', 'O'), ('Olahraga', 'NN', 'O'), ('Negara', 'NN', 'O'), ('-', '-', 'O'), ('Negara', 'NN', 'O'), ('Asia', 'NNP', 'O'), ('Tenggara', 'NN', 'O'), ('dan', 'CC', 'O'), ('kali', 'NN', 'O'), ('kedua', 'CDO', 'O'), ('setelah', 'SC', 'O'), ('14', 'CDP', 'O'), ('tahun', 'NN', 'O')]\n",
      "Train sent: [('Filipina', 'NNP', 'B-LOC'), ('telah', 'MD', 'O'), ('menggelar', 'VBT', 'O'), ('Pesta', 'NN', 'B-ORG'), ('Olahraga', 'NN', 'I-ORG'), ('Asia', 'NNP', 'I-ORG'), ('Tenggara', 'NN', 'I-ORG')]\n",
      "Train sent: [('antara', 'IN', 'O'), ('lain', 'JJ', 'O'), ('pada', 'IN', 'O'), ('tahun', 'NN', 'O'), ('1981', 'CDP', 'O')]\n",
      "Train sent: [('1991', 'CDP', 'O')]\n",
      "Train sent: [('dan', 'CC', 'O'), ('2005', 'CDP', 'O')]\n",
      "Train sent: [('Pesta', 'NN', 'O'), ('Olahraga', 'NN', 'O'), ('Negara', 'NN', 'O'), ('-', '-', 'O'), ('Negara', 'NN', 'O'), ('Asia', 'NNP', 'O'), ('Tenggara', 'NN', 'O'), ('1981', 'CDP', 'O'), ('dan', 'CC', 'O'), ('1991', 'CDP', 'O'), ('diselenggarakan', 'VBT', 'O'), ('di', 'IN', 'O'), ('Manila', 'NNP', 'B-LOC'), ('sedangkan', 'CC', 'O'), ('pada', 'IN', 'O'), ('tahun', 'NN', 'O'), ('2005', 'CDP', 'O')]\n",
      "Train sent: [('Beberapa', 'CDI', 'O'), ('pertandingan', 'NN', 'O'), ('diselenggarakan', 'VBT', 'O'), ('di', 'IN', 'O'), ('Metro', 'NNP', 'B-LOC'), ('Manila', 'NNP', 'I-LOC')]\n",
      "Train sent: [('Los', 'NNP', 'B-LOC'), ('Baños', 'NNP', 'I-LOC'), ('dan', 'CC', 'O'), ('Calamba', 'NNP', 'B-LOC'), ('City', 'NNP', 'I-LOC')]\n",
      "Train sent: [('Laguna', 'NNP', 'B-LOC')]\n",
      "Train sent: [('Cebu', 'NNP', 'B-LOC')]\n",
      "Train sent: [('Bacolod', 'NNP', 'B-LOC')]\n",
      "Train sent: [('Pampanga', 'NNP', 'B-LOC'), ('dan', 'CC', 'O'), ('Subic', 'NNP', 'B-LOC')]\n",
      "Train sent: [('Zambales', 'NNP', 'B-LOC')]\n",
      "Train sent: [('Pesta', 'NN', 'O'), ('Olahraga', 'NN', 'O'), ('Negara', 'NN', 'O')]\n",
      "Train sent: [('Negara', 'NN', 'O'), ('Asia', 'NNP', 'O'), ('Tenggara', 'NN', 'O'), ('kali', 'NN', 'O'), ('ini', 'DT', 'O'), ('juga', 'RB', 'O'), ('akan', 'MD', 'O'), ('memperingati', 'VBT', 'O'), ('60', 'CDP', 'O'), ('tahun', 'NN', 'O'), ('penyelenggaraan', 'NN', 'O'), ('SEA', 'NN', 'B-ORG'), ('Games', 'NN', 'I-ORG'), ('sejak', 'IN', 'O'), ('terbentuknya', 'VBI', 'O'), ('di', 'IN', 'O'), ('Thailand', 'NNP', 'B-LOC'), ('pada', 'IN', 'O'), ('tahun', 'NN', 'O'), ('1959', 'CDP', 'O')]\n",
      "Train sent: [('Pesta', 'NN', 'O'), ('Olahraga', 'NN', 'O'), ('Negara', 'NN', 'O')]\n",
      "Train sent: [('Negara', 'NN', 'O'), ('Asia', 'NNP', 'B-LOC'), ('Tenggara', 'NN', 'I-LOC'), ('juga', 'RB', 'O'), ('akan', 'MD', 'O'), ('menjadi', 'VBT', 'O'), ('peringatan', 'NN', 'O'), ('42', 'CDP', 'O'), ('tahun', 'NN', 'O')]\n",
      "Train sent: [('Pesta', 'NN', 'O'), ('Olahraga', 'NN', 'O'), ('Negara', 'NN', 'O')]\n",
      "Train sent: [('Negara', 'NN', 'O'), ('Asia', 'NNP', 'B-LOC'), ('Tenggara', 'NN', 'I-LOC'), ('atau', 'CC', 'O'), ('Southeast', 'NNP', 'B-LOC'), ('Asian', 'NNP', 'I-LOC'), ('Games', 'NNP', 'O'), ('(', 'OP', 'O'), ('SEA', 'NNP', 'O'), ('Games)', 'NNP', 'O')]\n",
      "Train sent: [('Dalam', 'IN', 'O'), ('perhelatan', 'NN', 'O'), ('ini', 'DT', 'O'), ('dihadiri', 'VBT', 'O'), ('oleh', 'IN', 'O'), ('beberapa', 'CDI', 'O'), ('negara', 'NN', 'O'), ('sekitar', 'CDI', 'O'), ('Asia', 'NNP', 'B-LOC'), ('Tenggara', 'NN', 'I-LOC'), ('yang', 'SC', 'O'), ('masing', 'NN', 'O')]\n",
      "Train sent: [('masing', 'NN', 'O'), ('negaranya', 'NN', 'O'), ('menyalurkan', 'VBT', 'O'), ('ratusan', 'CDC', 'O'), ('atau', 'CC', 'O'), ('ribuan', 'CDC', 'O'), ('peserta', 'NN', 'O'), ('yang', 'SC', 'O'), ('siap', 'JJ', 'O'), ('untuk', 'IN', 'O'), ('ditandingkan', 'VBT', 'O')]\n",
      "Train sent: [('Negara', 'NN', 'O'), ('yang', 'SC', 'O'), ('menyalurkan', 'VBT', 'O'), ('peserta', 'NN', 'O'), ('terbanyak', 'JJ', 'O'), ('dipegang', 'VBT', 'O'), ('oleh', 'IN', 'O'), ('tuan', 'NN', 'O'), ('rumah', 'NN', 'O'), ('yaitu', 'SC', 'O'), ('Filiphina', 'NN', 'B-LOC'), ('yaitu', 'SC', 'O'), ('sebanyak', 'CDI', 'O'), ('1868', 'CDP', 'O')]\n",
      "Train sent: [('dan', 'CC', 'O'), ('negara', 'NN', 'O'), ('yang', 'SC', 'O'), ('paling', 'RB', 'O'), ('sedikit', 'JJ', 'O'), ('yaitu', 'SC', 'O'), ('dari', 'IN', 'O'), ('negara', 'NN', 'O'), ('Timor', 'NNP', 'B-LOC'), ('Leste', 'NNP', 'I-LOC'), ('sebanyak', 'CDI', 'O'), ('221', 'CDP', 'O'), ('peserta', 'NN', 'O')]\n",
      "Train sent: [('Untuk', 'IN', 'O'), ('Indonesia', 'NNP', 'B-LOC'), ('sendiri', 'JJ', 'O')]\n",
      "Train sent: [('mengikuti', 'VBT', 'O'), ('45', 'CDP', 'O'), ('cabang', 'NN', 'O'), ('olahraga', 'NN', 'O')]\n",
      "Train sent: [('Berapa', 'WP', 'O'), ('harga', 'NN', 'O'), ('tiket', 'NN', 'O'), ('SEA', 'NN', 'B-ORG'), ('GAMES', 'NN', 'I-ORG'), ('2019', 'JJ', 'I-ORG'), ('di', 'IN', 'O'), ('Filiphina', 'NNP', 'B-LOC')]\n",
      "Train sent: [('Dari', 'IN', 'O'), ('hasil', 'NN', 'O'), ('penelusuran', 'NN', 'O')]\n",
      "Train sent: [('harga', 'NN', 'O'), ('tiket', 'NN', 'O'), ('SEA', 'NN', 'B-ORG'), ('Games', 'NN', 'I-ORG'), ('2019', 'RB', 'I-ORG'), ('dijual', 'VBT', 'O'), ('kisaran', 'NN', 'O'), ('harga', 'NN', 'O'), ('50', 'CDP', 'O'), ('peso', 'NN', 'O'), ('(', 'OP', 'O'), ('Rp14', 'CDP', 'O'), ('ribu', 'CDP', 'O'), (')', 'CP', 'O'), ('hingga', 'CC', 'O'), ('800', 'NN', 'O'), ('peso', 'NN', 'O'), ('(', 'OP', 'O'), ('Rp222', 'CDP', 'O'), ('ribu)', 'CDP', 'O')]\n",
      "Train sent: [('Fokus', 'NN', 'O'), ('pada', 'IN', 'O'), ('cabor', 'NN', 'O'), ('sepak', 'NN', 'B-ORG'), ('bola', 'NN', 'I-ORG'), ('pria', 'NN', 'O')]\n",
      "Train sent: [('harga', 'NN', 'O'), ('yang', 'SC', 'O'), ('ditawarkan', 'VBT', 'O'), ('juga', 'RB', 'O'), ('tidak', 'NEG', 'O'), ('terlalu', 'RB', 'O'), ('mahal', 'NN', 'O')]\n",
      "Train sent: [('Anda', 'PRP', 'O'), ('hanya', 'RB', 'O'), ('perlu', 'MD', 'O'), ('mengeluarkan', 'VBT', 'O'), ('dana', 'NN', 'O'), ('sekitar', 'CDI', 'O'), ('50', 'CDP', 'O'), ('peso', 'NN', 'O'), ('(', 'OP', 'O'), ('Rp14', 'CDP', 'O'), ('ribu', 'CDP', 'O'), (')', 'CP', 'O'), ('hingga', 'CC', 'O'), ('750', 'NN', 'O'), ('peso', 'NN', 'O'), ('(', 'OP', 'O'), ('Rp208', 'CDP', 'O'), ('ribu', 'CDP', 'O'), (')', 'CP', 'O'), ('saja', 'RB', 'O')]\n",
      "Train sent: [('Harga', 'NN', 'O'), ('tersebut', 'DT', 'O'), ('bergantung', 'VBI', 'O'), ('pada', 'IN', 'O'), ('tempat', 'NN', 'O'), ('duduk', 'VBI', 'O'), ('yang', 'SC', 'O'), ('Anda', 'PRP', 'O'), ('pilih', 'NN', 'O'), ('dan', 'CC', 'O'), ('laga', 'NN', 'O'), ('yang', 'SC', 'O'), ('ingin', 'VBT', 'O'), ('ditonton', 'VBT', 'O')]\n",
      "Train sent: [('Pertandingan', 'NN', 'O'), ('di', 'IN', 'O'), ('babak', 'NN', 'O'), ('putaran', 'NN', 'O'), ('tentu', 'RB', 'O'), ('akan', 'MD', 'O'), ('lebih', 'RB', 'O'), ('murah', 'JJ', 'O'), ('ketimbang', 'IN', 'O'), ('laga', 'NN', 'O'), ('puncak', 'NN', 'O')]\n",
      "Train sent: [('Informasi', 'NN', 'O'), ('tentang', 'IN', 'O'), ('harga', 'NN', 'O'), ('tiket', 'NN', 'O'), ('SEA', 'NN', 'B-ORG'), ('Games', 'NN', 'I-ORG'), ('2019', 'CDP', 'I-ORG'), ('bisa', 'MD', 'O'), ('dilihat', 'VBT', 'O'), ('melalui', 'VBT', 'O'), ('website', 'NN', 'O'), ('resmi', 'JJ', 'O'), ('Tiket', 'JJ', 'O'), ('SEA', 'NN', 'B-ORG'), ('Games', 'NN', 'I-ORG')]\n",
      "Train sent: [('SEA', 'NN', 'B-ORG'), ('Games', 'NN', 'I-ORG'), ('Filipina', 'NN', 'B-LOC'), ('2019', 'CDP', 'O'), ('akan', 'MD', 'O'), ('mempertandingkan', 'VBT', 'O'), ('56', 'CDP', 'O'), ('cabang', 'NN', 'O'), ('olahraga', 'NN', 'O'), ('dengan', 'IN', 'O'), ('560', 'CDP', 'O'), ('nomor', 'NN', 'O')]\n",
      "Train sent: [('Tahun', 'NN', 'O'), ('ini', 'DT', 'O')]\n",
      "Train sent: [('untuk', 'IN', 'O'), ('kali', 'NN', 'O'), ('pertama', 'CDO', 'O'), ('juga', 'RB', 'O'), ('multieven', 'NN', 'O'), ('olahraga', 'NN', 'O'), ('se', 'NN', 'O'), ('Asia', 'NNP', 'B-LOC'), ('Tenggara', 'NN', 'I-LOC'), ('tersebut', 'DT', 'O'), ('mempertandingkan', 'VBT', 'O'), ('cabang', 'NN', 'O'), ('baru', 'JJ', 'O'), ('yang', 'SC', 'O'), ('akrab', 'JJ', 'O'), ('dengan', 'IN', 'O'), ('dunia', 'NN', 'O'), ('milenials', 'NN', 'O')]\n",
      "Train sent: [('yakni', 'VBT', 'O'), ('esports', 'NN', 'B-ORG')]\n",
      "Train sent: [('Indonesia', 'NNP', 'B-LOC'), ('sendiri', 'RB', 'O'), ('mengirimkan', 'VBT', 'O'), ('841', 'CDP', 'O'), ('atlet', 'NN', 'O'), ('untuk', 'IN', 'O'), ('berlaga', 'VBI', 'O'), ('di', 'IN', 'O'), ('SEA', 'NN', 'B-ORG'), ('Games', 'NN', 'I-ORG'), ('tahun', 'NN', 'O'), ('ini', 'DT', 'O')]\n",
      "Train sent: [('Setelah', 'SC', 'O'), ('direvisi', 'VBT', 'O'), ('dari', 'IN', 'O'), ('54', 'CDP', 'O'), ('medali', 'NN', 'O'), ('emas', 'NN', 'O')]\n",
      "Train sent: [('Indonesia', 'NNP', 'B-LOC'), ('tahun', 'NN', 'O'), ('ini', 'DT', 'O'), ('menargetkan', 'VBT', 'O'), ('sebanyak', 'CDI', 'O'), ('45', 'CDP', 'O'), ('keping', 'NN', 'O'), ('emas', 'NN', 'O')]\n",
      "Train sent: [('Berdasarkan', 'VBT', 'O'), ('catatan', 'NN', 'O'), ('Kementerian', 'NN', 'O'), ('Pemuda', 'NN', 'O'), ('dan', 'CC', 'O'), ('Olahraga', 'NN', 'O'), ('(', 'OP', 'O'), ('Kemenpora', 'NNP', 'B-ORG'), (')', 'CP', 'O'), ('seperti', 'IN', 'O'), ('dilansir', 'VBT', 'O'), ('Antaranews.com', 'NNP', 'B-ORG')]\n",
      "Train sent: [('setidaknya', 'RB', 'O'), ('27', 'CDP', 'O'), ('cabang', 'NN', 'O'), ('olahraga', 'NN', 'O'), ('diharapkan', 'VBT', 'O'), ('jadi', 'JJ', 'O'), ('tambang', 'NN', 'O'), ('emas', 'NN', 'O'), ('di', 'IN', 'O'), ('SEA', 'NN', 'B-ORG'), ('Games', 'NN', 'I-ORG'), ('2019', 'CDP', 'I-ORG')]\n",
      "Train sent: [('di', 'IN', 'O'), ('antaranya', 'NNG', 'O')]\n",
      "Train sent: [('cabang', 'NN', 'O'), ('olahraga', 'NN', 'O'), ('atletik', 'NN', 'O')]\n",
      "Train sent: [('renang', 'NN', 'B-ORG')]\n",
      "Train sent: [('sepeda', 'NN', 'B-ORG')]\n",
      "Train sent: [('selancar', 'NN', 'B-ORG')]\n",
      "Train sent: [('ice', 'NN', 'B-ORG'), ('skeating', 'NN', 'I-ORG')]\n",
      "Train sent: [('triathlon', 'NNP', 'B-ORG')]\n",
      "Train sent: [('dan', 'CC', 'O'), ('bulu', 'NN', 'B-ORG'), ('tangkis', 'VBT', 'I-ORG')]\n",
      "Train sent: [('Ada', 'VBI', 'O'), ('juga', 'RB', 'O'), ('cabang', 'NN', 'O'), ('olahraga', 'NN', 'O'), ('lain', 'JJ', 'O'), ('seperti', 'IN', 'O'), ('boling', 'NN', 'B-ORG')]\n",
      "Train sent: [('panahan', 'NN', 'B-ORG')]\n",
      "Train sent: [('tinju', 'NN', 'B-ORG')]\n",
      "Train sent: [('kano', 'NN', 'B-ORG')]\n",
      "Train sent: [('senam', 'NN', 'B-ORG')]\n",
      "Train sent: [('judo', 'NNP', 'B-ORG')]\n",
      "Train sent: [('pencak', 'NN', 'B-ORG'), ('silat', 'NN', 'I-ORG')]\n",
      "Train sent: [('esports', 'NN', 'B-ORG')]\n",
      "Train sent: [('angkat', 'NN', 'B-ORG'), ('besi', 'NNP', 'I-ORG')]\n",
      "Train sent: [('soft', 'NN', 'B-ORG'), ('tenis', 'NN', 'I-ORG')]\n",
      "Train sent: [('hingga', 'CC', 'O'), ('voli', 'NN', 'B-ORG'), ('pantai', 'NN', 'I-ORG')]\n",
      "Train sent: [('Penyelenggara', 'NN', 'B-ORG'), ('SEA', 'NN', 'I-ORG'), ('Games', 'NN', 'I-ORG'), ('2019', 'CDP', 'O'), ('akan', 'MD', 'O'), ('menggratiskan', 'VBT', 'O'), ('tiket', 'NN', 'O'), ('untuk', 'IN', 'O'), ('hampir', 'RB', 'O'), ('semua', 'CDI', 'O'), ('cabang', 'NN', 'O'), ('olahraga', 'NN', 'O')]\n",
      "Train sent: [('Hal', 'NN', 'O'), ('ini', 'DT', 'O'), ('dilakukan', 'VBT', 'O'), ('atas', 'IN', 'O'), ('perintah', 'NN', 'O'), ('Presiden', 'NN', 'O'), ('Filipina', 'NNP', 'B-LOC')]\n",
      "Train sent: [('Rodrigo', 'NNP', 'I-PER'), ('Duterte', 'NNP', 'I-PER')]\n",
      "Train sent: [('Hal', 'NN', 'O'), ('tersebut', 'DT', 'O'), ('diumumkan', 'VBT', 'O'), ('oleh', 'IN', 'O'), ('Kepala', 'NN', 'O'), ('Komite', 'NN', 'O'), ('Penyelenggara', 'NN', 'O'), ('SEA', 'NN', 'B-ORG'), ('Games', 'NN', 'I-ORG'), ('2019', 'CDP', 'O'), ('(', 'OP', 'O'), ('Phisgoc)', 'NNP', 'O')]\n",
      "Train sent: [('Alan', 'NNP', 'I-PER'), ('Peter', 'NNP', 'I-PER'), ('Cayetano', 'NNP', 'I-PER')]\n",
      "Train sent: [('Jumat', 'NN', 'O'), ('(', 'OP', 'O'), ('29/11/2019', '11', 'O'), (')', 'CP', 'O'), ('waktu', 'NN', 'O'), ('setempat', 'NN', 'O')]\n",
      "Train sent: [('Kecuali', 'IN', 'O'), ('basket', 'NN', 'O')]\n",
      "Train sent: [('sepakbola', 'NN', 'B-ORG'), ('dan', 'CC', 'O'), ('voli', 'NN', 'I-ORG')]\n",
      "Train sent: [('semua', 'CDI', 'O'), ('cabang', 'NN', 'O'), ('olahraga', 'NN', 'O'), ('gratis', 'NN', 'O'), ('disaksikan', 'VBT', 'O'), ('oleh', 'IN', 'O'), ('publik', 'NN', 'O'), ('Filipina', 'NN', 'B-LOC')]\n",
      "Train sent: [('Duterte', 'NNP', 'B-PER'), ('juga', 'RB', 'O'), ('memerintahkan', 'VBT', 'O'), ('agar', 'IN', 'OO'), ('menyediakan', 'VBT', 'O'), ('10', 'CDP', 'O'), ('tiket', 'NN', 'O'), ('gratis', 'NN', 'O'), ('untuk', 'IN', 'O'), ('upacara', 'NN', 'O'), ('penutupan', 'NN', 'O'), ('SEA', 'NN', 'I-ORG'), ('Games', 'NN', 'I-ORG'), ('2019', 'CDP', 'O')]\n",
      "Train sent: [('Closing', 'NN', 'B-ORG'), ('Cermony', 'NN', 'I-ORG'), ('sendiri', 'JJ', 'O'), ('akan', 'MD', 'O'), ('dihelat', 'VBT', 'O'), ('di', 'IN', 'O'), ('Stadium', 'NNP', 'I-LOC'), ('New', 'NNP', 'I-LOC'), ('Clark', 'NNP', 'I-LOC'), ('City', 'NNP', 'I-LOC'), ('di', 'IN', 'O'), ('Capas', 'NNP', 'I-LOC')]\n",
      "Train sent: [('Tarlac', 'NNP', 'I-LOC'), ('pada', 'IN', 'O'), ('11', 'CDP', 'O'), ('Desember', 'NN', 'O'), ('2019', 'CDP', 'O'), ('mendatang', 'NN', 'O')]\n",
      "Train sent: [('ALASAN', 'NN', 'O'), ('PENURUNAN', 'NN', 'O'), ('TARGET', 'NN', 'O'), ('PEROLEHAN', 'NN', 'O'), ('EMAS', 'NN', 'O'), ('DI', 'IN', 'O'), ('SEA', 'NN', 'B-ORG'), ('GAMES', 'NN', 'I-ORG'), ('2019', 'CDP', 'O')]\n",
      "Train sent: [('Kepala', 'NN', 'B-PER'), ('Kontingen', 'NN', 'I-ORG'), ('Indonesia', 'NNP', 'I-LOC'), ('untuk', 'IN', 'O'), ('SEA', 'NN', 'I-ORG'), ('Games', 'NN', 'I-ORG'), ('2019', 'CDP', 'O')]\n",
      "Train sent: [('Harry', 'NNP', 'B-PER'), ('Warganegara', 'NNP', 'I-PER')]\n",
      "Train sent: [('menjelaskan', 'VBI', 'O'), ('alasan', 'NN', 'O'), ('mengapa', 'WP', 'O'), ('target', 'NN', 'O'), ('perolehan', 'NN', 'O'), ('medali', 'NN', 'O'), ('diturunkan', 'VBT', 'O'), ('menjadi', 'VBT', 'O'), ('45', 'CDP', 'O'), ('medali', 'NN', 'O'), ('emas', 'NN', 'O')]\n",
      "Train sent: [('Padahal', 'NNP', 'O')]\n",
      "Train sent: [('sebelumnya', 'SC', 'O'), ('pemerintah', 'NN', 'B-ORG'), ('Indonesia', 'NNP', 'I-LOC'), ('mematok', 'VBT', 'O'), ('target', 'NN', 'O'), ('bisa', 'MD', 'O'), ('meraih', 'VBT', 'O'), ('lebih', 'RB', 'O'), ('dari', 'IN', 'O'), ('50', 'CDP', 'O'), ('medali', 'NN', 'O'), ('emas', 'NN', 'O')]\n",
      "Train sent: [('Apa', 'WP', 'O'), ('alasannya', 'NN', 'O')]\n",
      "Train sent: [('Kita', 'PRP', 'B-PER'), ('prediksi', 'NN', 'O'), ('sekian', 'RB', 'O'), ('tapi', 'CC', 'O'), ('ada', 'VBI', 'O'), ('margin', 'NN', 'O'), ('error', 'NN', 'O'), ('20', 'CDP', 'O'), ('persen', 'NN', 'O'), ('makanya', 'NN', 'O'), ('jadi', 'JJ', 'O'), ('45', 'CDP', 'O'), ('emas', 'NN', 'O')]\n",
      "Train sent: [('Seperti', 'IN', 'O'), ('misalnya', 'NNG', 'O'), ('tiba', 'VBI', 'O')]\n",
      "Train sent: [('tiba', 'VBI', 'O'), ('atlet', 'NN', 'B-ORG'), ('sakit', 'JJ', 'O'), ('perut', 'NN', 'O')]\n",
      "Train sent: [('Kita', 'PRP', 'B-PER'), ('juga', 'RB', 'O'), ('tidak', 'NEG', 'O'), ('bisa', 'MD', 'O'), ('prediksi', 'NN', 'O'), ('angin', 'NN', 'O')]\n",
      "Train sent: [('Hal', 'NN', 'O')]\n",
      "Train sent: [('hal', 'NN', 'O'), ('teknis', 'NN', 'O')]\n",
      "Train sent: [('Contohnya', 'NNG', 'O')]\n",
      "Train sent: [('cabang', 'NN', 'O'), ('olahraga', 'NN', 'O'), ('basket', 'NN', 'B-ORG')]\n",
      "Train sent: [('Pada', 'IN', 'O'), ('SEA', 'NN', 'B-ORG'), ('Games', 'NN', 'I-ORG'), ('2017', 'CDP', 'O')]\n",
      "Train sent: [('Indonesia', 'NNP', 'B-LOC'), ('meraih', 'VBT', 'O'), ('perak', 'NN', 'O')]\n",
      "Train sent: [('Harapannya', 'NNP', 'O'), ('bisa', 'MD', 'O'), ('naik', 'VBI', 'O'), ('jadi', 'JJ', 'O'), ('emas', 'NN', 'O')]\n",
      "Train sent: [('Tapi', 'CC', 'O'), ('tenyata', 'NN', 'O'), ('aturan', 'NN', 'O'), ('diubah', 'VBT', 'O')]\n",
      "Train sent: [('mereka', 'PRP', 'B-PER'), ('membebaskan', 'VBT', 'O'), ('pemain', 'NN', 'I-PER'), ('naturalisasi', 'NN', 'O')]\n",
      "Train sent: [('Kalau', 'SC', 'O'), ('aturan', 'NN', 'O'), ('Federasi', 'NN', 'B-ORG'), ('Bola', 'NN', 'I-ORG'), ('Basket', 'NN', 'I-ORG'), ('Dunia', 'NN', 'I-ORG'), ('(', 'OP', 'O'), ('FIBA', 'NNP', 'I-ORG'), (')', 'CP', 'O'), ('kan', 'RP', 'O'), ('satu', 'CDP', 'O'), ('pemain', 'NN', 'I-PER'), ('naturalisasi', 'NN', 'O')]\n",
      "Train sent: [('Panitia', 'NN', 'B-ORG'), ('Pelaksana', 'NN', 'I-ORG'), ('SEA', 'NN', 'I-ORG'), ('Games', 'NN', 'I-ORG'), ('2019', 'NN', 'O'), ('Filipina', 'NNP', 'I-LOC'), ('(', 'OP', 'O'), ('PHISGOC', 'NNP', 'I-LOC'), (')', 'CP', 'O'), ('buat', 'NN', 'O'), ('aturan', 'NN', 'O'), ('sendiri', 'JJ', 'O'), ('bisa', 'MD', 'O'), ('pakai', 'NN', 'O'), ('sebanyak', 'CDI', 'O')]\n",
      "Train sent: [('banyaknya', 'NN', 'O'), ('pemain', 'NN', 'I-PER'), ('naturalisasi', 'NN', 'O')]\n",
      "Train sent: [('Bisa', 'MD', 'O'), ('jadi', 'JJ', 'O'), ('seluruh', 'CDI', 'O'), ('pemain', 'NN', 'B-PER'), ('tuan', 'NN', 'I-PER'), ('rumah', 'NN', 'I-LOC'), ('naturalisasi', 'NN', 'O')]\n",
      "Train sent: [('Apalagi', 'DT', 'O'), ('usaha', 'NN', 'O'), ('lain', 'JJ', 'O'), ('tuan', 'NN', 'B-PER'), ('rumah', 'NN', 'I-LOC'), ('meraih', 'VBT', 'O'), ('medali', 'NN', 'O'), ('sebanyak', 'CDI', 'O')]\n",
      "Train sent: [('banyaknya', 'JJ', 'O')]\n",
      "Train sent: [('Targetnya', 'NNP', 'O'), ('berharap', 'VBT', 'O'), ('lebih', 'RB', 'O'), ('bagus', 'IN', 'O'), ('yakni', 'VBT', 'O'), ('empat', 'CDP', 'O'), ('besar', 'JJ', 'O')]\n",
      "Train sent: [('Ada', 'VBI', 'O'), ('perbaikan', 'NN', 'O'), ('peringkat', 'NN', 'O')]\n",
      "Train sent: [('Kita', 'PRP', 'B-PER'), ('berharap', 'VBT', 'O'), ('target', 'NN', 'O'), ('medali', 'NN', 'O'), ('antara', 'IN', 'O'), ('45', 'CDP', 'O')]\n",
      "Train sent: [('50', 'CDP', 'O'), ('emas', 'NN', 'O'), ('itu', 'DT', 'O'), ('bisa', 'MD', 'O'), ('memperbaiki', 'VBT', 'O'), ('peringkat', 'NN', 'O')]\n",
      "Train sent: [('Apa', 'WP', 'O'), ('cabang', 'NN', 'O'), ('olahraga', 'NN', 'O'), ('andalan', 'NN', 'O'), ('untuk', 'IN', 'O'), ('meraih', 'VBT', 'O'), ('medali', 'NN', 'O'), ('?', '.', 'O')]\n",
      "Train sent: [('Ada', 'VBI', 'O'), ('27', 'CDP', 'O'), ('cabang', 'NN', 'O'), ('olahraga', 'NN', 'O'), ('yang', 'SC', 'O'), ('menjadi', 'VBT', 'O'), ('andalan', 'NN', 'O'), ('untuk', 'IN', 'O'), ('meraih', 'VBT', 'O'), ('medali', 'NN', 'O')]\n",
      "Train sent: [('yaitu', 'SC', 'O'), ('mulai', 'VBI', 'O'), ('dari', 'IN', 'O'), ('atletik', 'NN', 'B-ORG')]\n",
      "Train sent: [('renang', 'NN', 'B-ORG')]\n",
      "Train sent: [('sepeda', 'NN', 'B-ORG')]\n",
      "Train sent: [('selancar', 'NN', 'B-ORG')]\n",
      "Train sent: [('ice', 'NN', 'B-ORG'), ('skeating', 'NN', 'I-ORG')]\n",
      "Train sent: [('triathlon', 'NNP', 'B-ORG')]\n",
      "Train sent: [('dan', 'CC', 'O'), ('badminton', 'NN', 'B-ORG')]\n",
      "Train sent: [('Ada', 'VBI', 'O'), ('bowling', 'NN', 'B-ORG')]\n",
      "Train sent: [('panahan', 'NN', 'B-ORG')]\n",
      "Train sent: [('tinju', 'NN', 'B-ORG')]\n",
      "Train sent: [('kano', 'NN', 'B-ORG')]\n",
      "Train sent: [('senam', 'NN', 'B-ORG')]\n",
      "Train sent: [('judo', 'NNP', 'B-ORG')]\n",
      "Train sent: [('pencak', 'NN', 'B-ORG'), ('silat', 'NN', 'I-ORG')]\n",
      "Train sent: [('esports', 'NN', 'B-ORG')]\n",
      "Train sent: [('angkat', 'NN', 'B-ORG'), ('besi', 'NNP', 'I-ORG')]\n",
      "Train sent: [('soft', 'NN', 'B-ORG'), ('tenis', 'NN', 'I-ORG')]\n",
      "Train sent: [('dan', 'CC', 'O'), ('voli', 'NN', 'B-ORG'), ('pantai', 'NN', 'I-ORG')]\n",
      "Train sent: [('Ada', 'VBI', 'O'), ('beberapa', 'CDI', 'O'), ('lagi', 'RB', 'O'), ('yang', 'SC', 'O'), ('berpeluang', 'VBI', 'O')]\n",
      "Train sent: [('Penghargaan', 'NN', 'O'), ('untuk', 'IN', 'O'), ('yang', 'SC', 'O'), ('memenuhi', 'VBT', 'O'), ('target', 'NN', 'O')]\n",
      "Train sent: [('yaitu', 'SC', 'O'), ('bonus', 'NN', 'O'), ('pasti', 'JJ', 'O'), ('ada', 'VBI', 'O')]\n",
      "Train sent: [('Sudah', 'MD', 'O'), ('ada', 'VBI', 'O'), ('nominal', 'JJ', 'O'), ('emas', 'NN', 'O')]\n",
      "Train sent: [('perak', 'NN', 'O')]\n",
      "Train sent: [('perunggu', 'NN', 'O'), ('itu', 'DT', 'O'), ('ada', 'VBI', 'O')]\n",
      "Train sent: [('Tetapi', 'CC', 'O'), ('juga', 'RB', 'O'), ('adanya', 'NNG', 'O'), ('anksi', 'JJ', 'O'), ('bagi', 'IN', 'O'), ('yang', 'SC', 'O'), ('tidak', 'NEG', 'O'), ('memenuhi', 'VBT', 'O'), ('target', 'NN', 'O'), ('yaitu', 'SC', 'O')]\n",
      "Train sent: [('lebih', 'RB', 'O'), ('ke', 'IN', 'O'), ('pembinaan', 'NN', 'O'), ('cabang', 'NN', 'O'), ('olahraga', 'NN', 'O')]\n",
      "Train sent: [('Misalnya', 'NNG', 'O'), ('pelatnasnya', 'NN', 'B-ORG')]\n",
      "Train sent: [('pemerintah', 'NN', 'B-ORG'), ('mengatasi', 'VBT', 'O'), ('anggaran', 'NN', 'O'), ('apa', 'WP', 'O'), ('yang', 'SC', 'O'), ('tekah', 'NN', 'O'), ('diperoleh', 'VBT', 'O')]\n",
      "Train sent: [('Misalnya', 'NNG', 'O')]\n",
      "Train sent: [('kalau', 'SC', 'O'), ('sudah', 'MD', 'O'), ('mematok', 'VBT', 'O'), ('tapi', 'CC', 'O'), ('tidak', 'NEG', 'O'), ('terpenuhi', 'VBI', 'O'), ('bisa', 'MD', 'O'), ('jadi', 'JJ', 'O'), ('ada', 'VBI', 'O'), ('konsekuensi', 'NN', 'O'), ('penurunan', 'NN', 'O'), ('dana', 'NN', 'O'), ('pelatnas', 'NN', 'B-ORG')]\n",
      "Train sent: [('Kita', 'PRP', 'B-PER'), ('serahin', 'NN', 'O'), ('ke', 'IN', 'O'), ('Kemenpora', 'NN', 'I-ORG')]\n",
      "Train sent: [('bisa', 'MD', 'O'), ('jadi', 'JJ', 'O'), ('malah', 'NN', 'O'), ('ditambah', 'VBT', 'O'), ('anggarannya', 'NN', 'O')]\n",
      "Train sent: [('Perburuan', 'NN', 'O'), ('medali', 'NN', 'O'), ('emas', 'NN', 'O'), ('yang', 'SC', 'O'), ('dilakukan', 'VBT', 'O'), ('para', 'DT', 'O'), ('atlet', 'NN', 'B-ORG'), ('Indonesia', 'NNP', 'I-LOC'), ('pada', 'IN', 'O'), ('SEA', 'NN', 'I-ORG'), ('Games', 'NN', 'I-ORG'), ('2019', 'JJ', 'O'), ('di', 'IN', 'O'), ('Filipina', 'NN', 'I-LOC'), ('berpeluang', 'JJ', 'O'), ('membuahkan', 'VBT', 'O'), ('hasil', 'NN', 'O'), ('pertama', 'CDO', 'O'), ('dalam', 'IN', 'O'), ('waktu', 'NN', 'O'), ('dekat', 'JJ', 'O')]\n",
      "Train sent: [('Kepastian', 'NN', 'O'), ('itu', 'DT', 'O'), ('didapat', 'VBT', 'O'), ('menyusul', 'VBT', 'O'), ('kemenangan', 'NN', 'O'), ('yang', 'SC', 'O'), ('dibukukan', 'VBT', 'O'), ('timnas', 'NN', 'B-ORG'), ('polo', 'NN', 'I-ORG'), ('air', 'NN', 'I-ORG'), ('Indonesia', 'NNP', 'I-LOC'), ('atas', 'IN', 'O'), ('Singapura', 'NNP', 'I-LOC'), ('pada', 'IN', 'O'), ('Kamis', 'NN', 'O')]\n",
      "Train sent: [('Kemenangan', 'NN', 'O'), ('atas', 'IN', 'O'), ('Singapura', 'NNP', 'B-LOC'), ('membuat', 'VBT', 'O'), ('Indonesia', 'NNP', 'I-LOC'), ('semakin', 'RB', 'O'), ('kukuh', 'RB', 'O'), ('dipuncak', 'VBT', 'O'), ('klasemen', 'NN', 'O'), ('nomor', 'NN', 'O'), ('polo', 'NN', 'I-ORG'), ('air', 'NN', 'I-ORG'), ('putra', 'NN', 'I-PER'), ('SEA', 'NN', 'I-ORG'), ('Games', 'NN', 'I-ORG'), ('2019', 'CDP', 'O')]\n",
      "Train sent: [('Indonesia', 'NNP', 'B-LOC'), ('mengumpulkan', 'VBT', 'O'), ('lima', 'CDP', 'O'), ('poin', 'NN', 'O'), ('hasil', 'NN', 'O'), ('dari', 'IN', 'O'), ('dua', 'CDP', 'O'), ('kemenangan', 'NN', 'O'), ('(', 'OP', 'O'), ('bernilai', 'VBI', 'O'), ('dua', 'CDP', 'O'), ('poin', 'NN', 'O'), (')', 'CP', 'O'), ('dan', 'CC', 'O'), ('satu', 'CDP', 'O'), ('hasil', 'NN', 'O'), ('imbang', 'NN', 'O'), ('(', 'OP', 'O'), ('satu', 'CDP', 'O'), ('poin)', 'NN', 'O')]\n",
      "Train sent: [('Ridjkie', 'NNP', 'B-PER'), ('Mulia', 'NNP', 'I-PER'), ('dan', 'CC', 'O'), ('kawan', 'NN', 'I-PER')]\n",
      "Train sent: [('kawan', 'NN', 'B-PER')]\n",
      "Train sent: [('unggul', 'NN', 'O'), ('sejauh', 'NN', 'O'), ('dua', 'CDP', 'O'), ('poin', 'NN', 'O'), ('dari', 'IN', 'O'), ('pesaing', 'NN', 'O'), ('terdekat', 'JJ', 'O')]\n",
      "Train sent: [('Filipina', 'NNP', 'B-LOC')]\n",
      "Train sent: [('yang', 'SC', 'O'), ('baru', 'JJ', 'O'), ('melakoni', 'VBT', 'O'), ('dua', 'CDP', 'O'), ('pertandingan', 'NN', 'O'), ('sejauh', 'NN', 'O'), ('ini', 'DT', 'O')]\n",
      "Train sent: [('Dua', 'CDP', 'O'), ('pertandingan', 'NN', 'O'), ('yang', 'SC', 'O'), ('berlangsung', 'VBI', 'O'), ('hari', 'NN', 'O'), ('ini', 'DT', 'O'), ('bisa', 'MD', 'O'), ('menjadi', 'VBT', 'O'), ('penentuan', 'NN', 'O'), ('soal', 'NN', 'O'), ('negara', 'NN', 'B-LOC'), ('mana', 'NN', 'O'), ('yang', 'SC', 'O'), ('akan', 'MD', 'O'), ('meraih', 'VBT', 'O'), ('medali', 'NN', 'O'), ('emas', 'NN', 'O'), ('dari', 'IN', 'O'), ('nomor', 'NN', 'O'), ('polo', 'NN', 'I-ORG'), ('air', 'NN', 'I-ORG'), ('putra', 'NN', 'I-PER')]\n",
      "Train sent: [('Pemerintah', 'NN', 'B-ORG'), ('Filipina', 'NN', 'I-LOC'), ('banyak', 'JJ', 'O'), ('menuai', 'VBT', 'O'), ('kritik', 'NN', 'O'), ('setelah', 'SC', 'O'), ('dianggap', 'VBT', 'O'), ('gagal', 'JJ', 'O'), ('menjadi', 'VBT', 'O'), ('tuan', 'NN', 'I-PER'), ('rumah', 'NN', 'I-LOC'), ('dari', 'IN', 'O'), ('penyelenggaraan', 'NN', 'I-ORG'), ('pesta', 'NN', 'I-ORG'), ('olahraga', 'NN', 'I-ORG'), ('terbesar', 'JJ', 'O'), ('di', 'IN', 'O'), ('Asia', 'NNP', 'I-LOC'), ('Tenggara', 'NN', 'I-LOC')]\n",
      "Train sent: [('Southeast', 'NNP', 'B-LOC'), ('Asian', 'NNP', 'I-LOC'), ('Games', 'NNP', 'I-LOC'), ('(', 'OP', 'O'), ('SEA', 'NN', 'B-ORG'), ('Games', 'NNP', 'I-ORG'), (')', 'CP', 'O'), ('2019', 'CDP', 'O'), ('di', 'IN', 'O'), ('Manila', 'NNP', 'B-LOC')]\n",
      "Train sent: [('Seperti', 'IN', 'O'), ('dilaporkan', 'VBT', 'O'), ('beberapa', 'CDI', 'O'), ('media', 'NN', 'O')]\n",
      "Train sent: [('pelayanan', 'NN', 'O'), ('yang', 'SC', 'O'), ('diberikan', 'VBT', 'O'), ('negara', 'NN', 'B-LOC'), ('itu', 'DT', 'O'), ('untuk', 'IN', 'O'), ('para', 'DT', 'O'), ('atlet', 'NN', 'I-ORG'), ('dan', 'CC', 'O'), ('tamu', 'NN', 'I-ORG'), ('Sea', 'NN', 'I-ORG'), ('Games', 'NN', 'I-ORG'), ('tersebut', 'DT', 'O'), ('tidak', 'NEG', 'O'), ('memadai', 'VBI', 'O')]\n",
      "Train sent: [('Financial', 'FW', 'O'), ('Times', 'FW', 'O'), ('melaporkan', 'VBT', 'O'), ('pada', 'IN', 'O'), ('Kamis', 'NN', 'O'), ('(', 'OP', 'O'), ('28/11/2019', '11', 'O'), (')', 'CP', 'O'), ('bahwa', 'SC', 'O'), ('para', 'DT', 'O'), ('atlet', 'NN', 'B-ORG'), ('yang', 'SC', 'O'), ('seharusnya', 'RB', 'O'), ('berlaga', 'VBI', 'I-ORG'), ('di', 'IN', 'O'), ('ajang', 'NN', 'O'), ('bergengsi', 'VBI', 'O'), ('tersebut', 'DT', 'O'), ('tidak', 'NEG', 'O'), ('mendapat', 'VBT', 'O'), ('pelayanan', 'NN', 'O'), ('yang', 'SC', 'O'), ('layak', 'NN', 'O')]\n",
      "Train sent: [('Mereka', 'PRP', 'O'), ('tidak', 'NEG', 'O'), ('mendapatkan', 'VBT', 'O'), ('hotel', 'NN', 'B-LOC'), ('untuk', 'IN', 'O'), ('menginap', 'VBT', 'O')]\n",
      "Train sent: [('sehingga', 'SC', 'O'), ('terpaksa', 'VBI', 'O'), ('harus', 'MD', 'O'), ('tidur', 'VBI', 'O'), ('di', 'IN', 'O'), ('lantai', 'NN', 'O'), ('sebuah', 'NN', 'O'), ('gedung', 'NN', 'B-LOC'), ('beramai', 'WP', 'O')]\n",
      "Train sent: [('ramai', 'JJ', 'O')]\n",
      "Train sent: [('Beberapa', 'CDI', 'O'), ('venue', 'NN', 'B-LOC'), ('termasuk', 'VBT', 'O'), ('Stadion', 'NNP', 'B-LOC'), ('Rizal', 'NNP', 'B-PER'), ('Memorial', 'NNP', 'I-PER'), ('Manila', 'NNP', 'I-PER'), ('yang', 'SC', 'O'), ('seharusnya', 'RB', 'O'), ('dijadikan', 'VBT', 'O'), ('tempat', 'NN', 'O'), ('pertandingan', 'NN', 'O'), ('sepak', 'NN', 'B-ORG'), ('bola', 'NN', 'I-ORG'), ('putra', 'NN', 'I-ORG'), ('juga', 'RB', 'O'), ('dikabarkan', 'VBT', 'O'), ('belum', 'NEG', 'O'), ('selesai', 'NN', 'O'), ('direnovasi', 'VBT', 'O'), ('pada', 'IN', 'O'), ('saat', 'NN', 'O'), ('acara', 'NN', 'O'), ('pembukaan', 'NN', 'O'), ('semakin', 'RB', 'O'), ('dekat', 'JJ', 'O')]\n",
      "Train sent: [('Acara', 'NN', 'O'), ('pembukaan', 'NN', 'O'), ('akan', 'MD', 'O'), ('digelar', 'VBT', 'O'), ('pada', 'IN', 'O'), ('Sabtu', 'NN', 'O'), ('30', 'CDP', 'O'), ('November', 'NN', 'O'), ('besok', 'NNP', 'O')]\n",
      "Train sent: [('Seorang', 'NN', 'O'), ('atlet', 'NN', 'B-ORG'), ('senam', 'NN', 'I-ORG'), ('yang', 'SC', 'O'), ('hendak', 'MD', 'O'), ('dikirim', 'VBT', 'O'), ('ke', 'IN', 'O'), ('SEA', 'NN', 'B-ORG'), ('Games', 'NN', 'I-ORG'), ('2019', 'CDP', 'I-ORG'), ('Filipina', 'NN', 'I-ORG'), ('dipulangkan', 'NN', 'O')]\n",
      "Train sent: [('Pemulangan', 'NNP', 'O'), ('dilakukan', 'VBT', 'O'), ('karena', 'CC', 'O'), ('atlet', 'NN', 'I-ORG'), ('tersebut', 'DT', 'O'), ('diisukan', 'VBT', 'O'), ('tidak', 'NEG', 'O'), ('perawan', 'NN', 'O')]\n",
      "Train sent: [('Atlet', 'NN', 'B-ORG'), ('itu', 'DT', 'O'), ('adalah', 'VBT', 'O'), ('Shalfa', 'NNP', 'B-PER'), ('Avrila', 'NNP', 'I-PER'), ('Siani', 'NNP', 'I-PER'), ('(', 'OP', 'O'), ('17)', 'CDP', 'O')]\n",
      "Train sent: [('atlet', 'NN', 'B-ORG'), ('senam', 'NN', 'I-ORG'), ('artistik', 'NN', 'O'), ('asal', 'NN', 'O'), ('Kota', 'NN', 'O'), ('Kediri', 'NN', 'O')]\n",
      "Train sent: [('Shalfa', 'NNP', 'B-PER'), ('saat', 'NN', 'O'), ('itu', 'DT', 'O'), ('sedang', 'RB', 'O'), ('menjalani', 'VBT', 'O'), ('pemusatan', 'NN', 'O'), ('pelatihan', 'NN', 'O'), ('senam', 'NN', 'O'), ('untuk', 'IN', 'O'), ('persiapan', 'NN', 'O'), ('SEA', 'NN', 'B-ORG'), ('Games', 'NN', 'I-ORG'), ('2019', 'JJ', 'I-ORG'), ('di', 'IN', 'O'), ('Gresik', 'FW', 'O')]\n",
      "Train sent: [('Namun', 'CC', 'O')]\n",
      "Train sent: [('pada', 'IN', 'O'), ('pertengahan', 'NN', 'O'), ('November', 'NN', 'O')]\n",
      "Train sent: [('orang', 'NN', 'B-PER'), ('tua', 'NN', 'I-PER'), ('Shalfa', 'NNP', 'B-PER'), ('tiba', 'VBI', 'O'), ('-', '-', 'O'), ('tiba', 'VBI', 'O'), ('mendapat', 'VBT', 'O'), ('telepon', 'NN', 'O'), ('dari', 'IN', 'O'), ('pelatih', 'NN', 'O')]\n",
      "Train sent: [('Orang', 'NN', 'B-PER'), ('tua', 'JJ', 'B-PER'), ('diperintahkan', 'VBT', 'O'), ('mengambil', 'VBT', 'O'), ('Shalfa', 'NNP', 'B-PER'), ('untuk', 'IN', 'O'), ('pulang', 'VBI', 'O'), ('ke', 'IN', 'O'), ('Kediri', 'NN', 'B-LOC'), ('karena', 'CC', 'O'), ('suatu', 'DT', 'O'), ('alasan', 'NN', 'O'), ('tertentu', 'JJ', 'O')]\n",
      "Train sent: [('Saat', 'NN', 'O'), ('orang', 'NN', 'B-PER'), ('tua', 'NN', 'B-PER'), ('tiba', 'VBI', 'O'), ('di', 'IN', 'O'), ('asrama', 'NN', 'B-LOC'), ('dan', 'CC', 'O'), ('membawa', 'VBT', 'O'), ('pulang', 'VBI', 'O'), ('Shalfa', 'NNP', 'B-PER'), ('kembali', 'RB', 'O'), ('ke', 'IN', 'O'), ('Kota', 'NN', 'B-LOC'), ('Kediri', 'NN', 'I-LOC')]\n",
      "Train sent: [('orang', 'NN', 'B-PER'), ('tua', 'NN', 'I-PER'), ('mendengar', 'VBT', 'O'), ('kabar', 'NN', 'O'), ('bahwa', 'SC', 'O'), ('Shalfa', 'NNP', 'B-PER'), ('dipulangkan', 'NN', 'O'), ('karena', 'CC', 'O'), ('diduga', 'VBT', 'O'), ('tidak', 'NEG', 'O'), ('perawan', 'NN', 'O')]\n",
      "Train sent: [('Jadi', 'JJ', 'O'), ('pada', 'IN', 'O'), ('tanggal', 'NN', 'O'), ('13', 'CDP', 'O'), ('November', 'NN', 'O'), ('sore', 'NN', 'O')]\n",
      "Train sent: [('orang', 'NN', 'B-PER'), ('tua', 'NN', 'I-PER'), ('ditelepon', 'VBT', 'O'), ('agar', 'IN', 'O'), ('ke', 'IN', 'O'), ('asrama', 'NN', 'B-LOC'), ('Pusdiklat', 'NN', 'I-LOC'), ('Persani', 'NN', 'I-LOC'), ('(', 'OP', 'I-LOC'), ('Gresik', 'FW', 'I-LOC'), (')', 'CP', 'I-LOC'), ('untuk', 'IN', 'O'), ('menjemput', 'VBT', 'O'), ('anaknya', 'NN', 'B-PER'), ('karena', 'CC', 'O'), ('tidak', 'NEG', 'O'), ('dapat', 'MD', 'O'), ('dipertahankan', 'VBT', 'O'), ('karena', 'CC', 'O'), ('isu', 'NNP', 'O'), ('tidak', 'NEG', 'O'), ('perawan,', 'NN', 'O')]\n",
      "Train sent: [('ujar', 'VBT', 'O'), ('penasihat', 'NN', 'B-PER'), ('hukum', 'NN', 'I-PER'), ('keluarga', 'NN', 'I-PER'), ('Imam', 'NNP', 'B-PER'), ('Muhklas', 'NNP', 'I-PER'), ('kepada', 'IN', 'O'), ('detikcom', 'NN', 'O')]\n",
      "Train sent: [('Imam', 'NNP', 'B-PER'), ('mengatakan', 'VBI', 'O'), ('tentu', 'RB', 'O'), ('saja', 'RB', 'O'), ('isu', 'NNP', 'O'), ('itu', 'DT', 'O'), ('membuat', 'VBT', 'O'), ('orang', 'NN', 'B-PER'), ('tua', 'NN', 'I-PER'), ('Shalfa', 'NNP', 'I-PER'), ('syok', 'NN', 'O')]\n",
      "Train sent: [('Orang', 'NN', 'B-PER'), ('tua', 'JJ', 'I-PER'), ('Shalfa', 'NNP', 'I-PER'), ('tidak', 'NEG', 'O'), ('terima', 'VBI', 'O'), ('dengan', 'IN', 'O'), ('alasan', 'NN', 'O'), ('pemulangan', 'NN', 'O'), ('anaknya', 'NN', 'O'), ('karena', 'CC', 'O'), ('isu', 'NNP', 'O'), ('tersebut', 'DT', 'O')]\n",
      "Train sent: [('Orang', 'NN', 'B-PER'), ('tua', 'JJ', 'I-PER'), ('menegaskan', 'VBT', 'O'), ('Shalfa', 'NNP', 'B-PER'), ('adalah', 'VBT', 'O'), ('anak', 'NN', 'O'), ('yang', 'SC', 'O'), ('baik', 'JJ', 'O')]\n",
      "Train sent: [('Presiden', 'NN', 'B-PER'), ('Joko', 'NNP', 'I-PER'), ('Widodo', 'NNP', 'I-PER'), ('memberikan', 'VBT', 'O'), ('bendera', 'NN', 'O'), ('kepada', 'IN', 'O'), ('ketua', 'NN', 'B-PER'), ('Komite', 'NN', 'I-PER'), ('Olimpiade', 'NNP', 'I-PER'), ('Indonesia', 'NNP', 'I-PER'), ('saat', 'NN', 'O'), ('pelepasan', 'NN', 'O'), ('atlet', 'NN', 'B-PER'), ('untuk', 'IN', 'O'), ('SEA', 'NN', 'B-ORG'), ('GAMES', 'NN', 'I-ORG'), ('2019', 'JJ', 'I-ORG'), ('di', 'IN', 'O'), ('Istana', 'NN', 'B-LOC'), ('Bogor', 'NNP', 'I-LOC')]\n",
      "Train sent: [('Jawabarat', 'NNP', 'I-LOC')]\n",
      "Train sent: [('Presiden', 'NN', 'B-PER'), ('resmi', 'JJ', 'O'), ('melepas', 'VBT', 'O'), ('841', 'CDP', 'O'), ('atlet', 'NN', 'B-PER'), ('Indonesia', 'NNP', 'B-LOC'), ('untuk', 'IN', 'O'), ('berlaga', 'VBI', 'O'), ('di', 'IN', 'O'), ('SEA', 'NN', 'B-ORG'), ('GAMES', 'NN', '-I-ORG'), ('2019', 'CDP', 'I-ORG')]\n",
      "Train sent: [('di', 'IN', 'I-ORG'), ('Fiiphina', 'NNP', 'B-LOC')]\n",
      "Train sent: [('Presiden', 'NN', 'B-PER'), ('Joko', 'NNP', 'I-PER'), ('Widodo', 'NNP', 'I-PER'), ('juga', 'RB', 'O'), ('memberikan', 'VBT', 'O'), ('sambutan', 'NN', 'O'), ('kepada', 'IN', 'O'), ('para', 'DT', 'O'), ('atlet', 'NN', 'B-PER'), ('Indonesia', 'NNP', 'I-PER')]\n",
      "Train sent: [('Pada', 'IN', 'O'), ('kejuaraan', 'NN', 'O'), ('tahun', 'NN', 'O'), ('ini', 'DT', 'O')]\n",
      "Train sent: [('Indonesia', 'NNP', 'B-ORG'), ('turun', 'VBI', 'O'), ('di', 'IN', 'O'), ('51', 'CDP', 'O'), ('cabang', 'NN', 'O'), ('olahraga', 'NN', 'O'), ('dari', 'IN', 'O'), ('56', 'CDP', 'O'), ('cabang', 'NN', 'O'), ('olahraga', 'NN', 'O'), ('yang', 'SC', 'O'), ('di', 'IN', 'O'), ('pertandingkan', 'NN', 'O')]\n",
      "Train sent: [('Sejumlah', 'CDI', 'O'), ('atlet', 'NN', 'B-PER'), ('tengah', 'NN', 'O'), ('mengikuti', 'VBT', 'O'), ('upacara', 'NN', 'O'), ('pelepasan', 'NN', 'O'), ('tersebut', 'DT', 'O'), ('yang', 'SC', 'O'), ('diadakan', 'VBT', 'O'), ('di', 'IN', 'O'), ('Istana', 'NN', 'B-LOC'), ('Bogor', 'NNP', 'I-LOC')]\n",
      "Train sent: [('Jawabarat', 'NNP', 'I-LOC')]\n",
      "Train sent: [('Upacara', 'NN', 'O'), ('pelepasan', 'NN', 'O'), ('atlet', 'NN', 'O'), ('ini', 'DT', 'O'), ('juga', 'RB', 'O'), ('dihadiri', 'VBT', 'O'), ('oleh', 'IN', 'O'), ('Kemenpora', 'NN', 'B-PER')]\n",
      "Train sent: [('Ketua', 'NN', 'B-PER'), ('Komite', 'NN', 'I-PER'), ('Olimpiade', 'NNP', 'I-PER'), ('Indonesia', 'NNP', 'I-PER')]\n",
      "Train sent: [('Ketua', 'NN', 'B-PER'), ('Kontingen', 'NN', 'I-PER'), ('Indonesia', 'NNP', 'I-PER'), ('dan', 'CC', 'O'), ('Sesmenpora', 'NN', 'B-PER')]\n",
      "Train sent: [('Panitia', 'NN', 'B-PER'), ('penyelenggara', 'NN', 'O'), ('SEA', 'NN', 'B-ORG'), ('Games', 'NN', 'I-ORG'), ('2019', 'JJ', 'I-ORG'), ('di', 'IN', 'O'), ('Filipina', 'NNP', 'B-LOC'), ('disebut', 'VBT', 'O'), ('sengaja', 'VBT', 'O'), ('mengabaikan', 'VBT', 'O'), ('saran', 'NN', 'O'), ('untuk', 'IN', 'O'), ('menyediakan', 'VBT', 'O'), ('makanan', 'NN', 'O'), ('halal', 'NN', 'O'), ('dari', 'IN', 'O'), ('Komisi', 'NN', 'I-ORG'), ('Nasional', 'JJ', 'I-ORG'), ('Muslim', 'NNP', 'I-ORG'), ('Filipina', 'NNP', 'I-LOC'), ('(', 'OP', 'O'), ('NCMF)', 'NNP', 'I-ORG')]\n",
      "Train sent: [('Direktur', 'NN', 'B-PER'), ('Hubungan', 'NN', 'I-PER'), ('Eksternal', 'NN', 'I-PER'), ('NCMF', 'NNP', 'I-PER'), (',', ',', 'O'), ('Dimapuno', 'NNP', 'B-PER'), ('Alonto', 'NNP', 'I-PER'), ('Datu', 'NNP', 'I-PER')]\n",
      "Train sent: [('Ramos', 'NN', 'I-PER'), ('Jr', 'NN', 'I-PER')]\n",
      "Train sent: [('mengaku', 'VBI', 'O'), ('sudah', 'MD', 'O'), ('sempat', 'RB', 'O'), ('memberikan', 'VBT', 'O'), ('rekomendasi', 'NN', 'O'), ('agar', 'IN', 'O'), ('panitia', 'NN', 'O'), ('penyelenggara', 'NN', 'O'), ('menyediakan', 'VBT', 'O'), ('pula', 'RB', 'O'), ('makanan', 'NN', 'O'), ('halal', 'NN', 'O'), ('di', 'IN', 'O'), ('ajang', 'NN', 'O'), ('SEA', 'NN', 'I-ORG'), ('Games', 'NN', 'I-ORG'), ('2019', 'CDP', 'I-ORG')]\n"
     ]
    }
   ],
   "source": [
    "for row in data_train.iterrows():\n",
    "    word = row[1][0]\n",
    "    tag = row[1][1]\n",
    "    label = row[1][2]\n",
    "    if not row[1].isnull()[2]:\n",
    "        t = (word, tag, label)\n",
    "        sent.append(t)\n",
    "    else:\n",
    "        if len(sent) == 0:\n",
    "            continue\n",
    "        print('Train sent:', sent)\n",
    "        train_sents.append(sent)\n",
    "        sent = []"
   ]
  },
  {
   "cell_type": "code",
   "execution_count": 12,
   "metadata": {},
   "outputs": [
    {
     "name": "stdout",
     "output_type": "stream",
     "text": [
      "Test sent: [('Pada', 'IN', 'O'), ('pemberitaan', 'NN', 'O'), ('sebelumnya', 'NNG', 'O')]\n",
      "Test sent: [('September', 'NN', 'O')]\n",
      "Test sent: [('Datu', 'NNP', 'B-PER')]\n",
      "Test sent: [('Ramos', 'NNP', 'I-PER'), ('sudah', 'MD', 'O'), ('mencuatkan', 'VBT', 'O'), ('isu', 'NNP', 'O'), ('terkait', 'VBT', 'O'), ('sertifikasi', 'NN', 'O'), ('halal', 'NN', 'O'), ('katering', 'NN', 'O'), ('untuk', 'IN', 'O'), ('para', 'DT', 'O'), ('tamu', 'NN', 'I-PER'), ('muslim', 'NN', 'I-ORG'), ('di', 'IN', 'O'), ('SEA', 'NN', 'I-ORG'), ('Games', 'NN', 'I-ORG'), ('2019', 'CDP', 'I-ORG')]\n",
      "Test sent: [('Dia', 'PRP', 'B-PER'), ('juga', 'RB', 'O'), ('sempat', 'RB', 'O'), ('mempertanyakan', 'VBT', 'O'), ('ketersediaan', 'NN', 'O'), ('tempat', 'NN', 'O')]\n",
      "Test sent: [('tempat', 'NN', 'O'), ('salat', 'NN', 'O'), ('dengan', 'IN', 'O'), ('petunjuk', 'NN', 'O'), ('arah', 'NN', 'O'), ('kiblat', 'NN', 'O'), ('yang', 'SC', 'O'), ('sesuai', 'RB', 'O')]\n",
      "Test sent: [('Pada', 'IN', 'O'), ('Minggu', 'NN', 'O'), ('(', 'OP', 'O'), ('24/11)', '11)', 'O')]\n",
      "Test sent: [('Chef', 'NNP', 'B-PER'), ('de', 'NNP', 'I-PER'), ('Mission', 'NNP', 'I-PER'), ('Singapura', 'NNP', 'I-LOC')]\n",
      "Test sent: [('Juliana', 'NN', 'B-PER'), ('Seow', 'NN', 'I-PER')]\n",
      "Test sent: [('menyurati', 'VBT', 'O'), ('penyelenggara', 'NN', 'O'), ('SEA', 'NN', 'I-ORG'), ('Games', 'NN', 'I-ORG'), ('2019', 'JJ', 'I-ORG'), ('di', 'IN', 'O'), ('Manila', 'NNP', 'I-LOC'), ('agar', 'SC', 'O'), ('segera', 'RB', 'O'), ('menyelesaikan', 'VBT', 'O'), ('masalah', 'NN', 'O'), ('akomodasi', 'NN', 'O'), ('para', 'DT', 'O'), ('atlet', 'NN', 'O'), ('yang', 'SC', 'O'), ('dinilai', 'VBT', 'O'), ('buruk', 'JJ', 'O')]\n",
      "Test sent: [('Kondisi', 'NN', 'O'), ('penyelenggaraan', 'NN', 'O'), ('layanan', 'NN', 'O'), ('akomodasi', 'NN', 'O'), ('SEA', 'NN', 'I-ORG'), ('Games', 'NN', 'I-ORG'), ('yang', 'SC', 'O'), ('buruk', 'JJ', 'O'), ('dinilainya', 'NN', 'O'), ('mengganggu', 'VBT', 'O'), ('persiapan', 'NN', 'O'), ('para', 'DT', 'O'), ('atlet', 'NN', 'O')]\n",
      "Test sent: [('Seow', 'NN', 'B-PER'), ('sempat', 'RB', 'O'), ('mengungkapkan', 'VBT', 'O'), ('rombongan', 'NN', 'O'), ('kontingen', 'NN', 'O'), ('Singapura', 'NNP', 'I-LOC'), ('yang', 'SC', 'O'), ('tinggal', 'VBI', 'O'), ('di', 'IN', 'O'), ('Hotel', 'NN', 'I-LOC'), ('Century', 'NNP', 'I-LOC'), ('Manila', 'NNP', 'I-LOC'), ('terpaksa', 'VBT', 'O'), ('mencari', 'VBT', 'O'), ('sendiri', 'JJ', 'O'), ('makanan', 'NN', 'O'), ('karena', 'CC', 'O'), ('tidak', 'NEG', 'O'), ('terdapat', 'VBT', 'O'), ('menu', 'NN', 'O'), ('halal', 'NN', 'O'), ('atau', 'CC', 'O'), ('alternatif', 'NN', 'O'), ('lainnya', 'NNG', 'O')]\n",
      "Test sent: [('Media', 'NNP', 'B-ORG'), ('Malaysia', 'NNP', 'I-LOC'), ('Bernama', 'NN', 'I-ORG'), ('juga', 'RB', 'O'), ('menyoroti', 'VBT', 'O'), ('krisis', 'NN', 'O'), ('makanan', 'NN', 'O'), ('halal', 'NN', 'O'), ('di', 'IN', 'O'), ('SEA', 'NN', 'I-ORG'), ('Games', 'NN', 'I-ORG'), ('2019', 'CDP', 'I-ORG')]\n",
      "Test sent: [('Situasi', 'NN', 'O'), ('itu', 'DT', 'O'), ('juga', 'RB', 'O'), ('menyulitkan', 'VBT', 'O'), ('para', 'DT', 'O'), ('jurnalis', 'NN', 'O'), ('muslim', 'NN', 'O'), ('di', 'IN', 'O'), ('negara', 'NN', 'O'), ('tersebut', 'DT', 'O')]\n",
      "Test sent: [('Kami', 'PRP', 'B-PER'), ('sangat', 'RB', 'O'), ('sadar', 'NN', 'O'), ('kesulitan', 'NN', 'O'), ('mendapatkan', 'VBT', 'O'), ('makanan', 'NN', 'O'), ('halal', 'NN', 'O'), ('di', 'IN', 'O'), ('Filipina', 'NNP', 'I-LOC'), ('dan', 'CC', 'O'), ('kami', 'PRP', 'O'), ('berharap', 'VBT', 'O'), ('dimudahkan', 'VBT', 'O'), ('soal', 'NN', 'O'), ('makanan', 'NN', 'O'), ('halal', 'NN', 'O')]\n",
      "Test sent: [('Ini', 'DT', 'O'), ('akan', 'MD', 'O'), ('sangat', 'RB', 'O'), ('membantu', 'VBT', 'O'), ('para', 'DT', 'O'), ('jurnalis', 'NN', 'O'), ('olahraga', 'NN', 'O'), ('yang', 'SC', 'O'), ('memiliki', 'VBT', 'O'), ('waktu', 'NN', 'O'), ('terbatas', 'VBI', 'O')]\n",
      "Test sent: [('mencari', 'VBT', 'O'), ('makanan', 'NN', 'O'), ('halal', 'NN', 'O')]\n",
      "Test sent: [('di', 'IN', 'O'), ('tengah', 'NN', 'O'), ('tugas', 'NN', 'O')]\n",
      "Test sent: [('tugasnya,', 'NN', 'O')]\n",
      "Test sent: [('demikian', 'DT', 'O'), ('tulis', 'VBT', 'O'), ('Bernama', 'NN', 'I-ORG')]\n",
      "Test sent: [('Rombongan', 'NNP', 'O'), ('Timnas', 'NNP', 'I-ORG'), ('Indonesia', 'NNP', 'I-LOC'), ('juga', 'RB', 'O'), ('diberitakan', 'VBT', 'O'), ('kesulitan', 'NN', 'O'), ('mencari', 'VBT', 'O'), ('makanan', 'NN', 'O'), ('halal', 'NN', 'O'), ('sehingga', 'SC', 'O'), ('sempat', 'RB', 'O'), ('tak', 'NEG', 'O'), ('sengaja', 'VBT', 'O'), ('memakan', 'VBT', 'O'), ('menu', 'NN', 'O'), ('babi', 'NN', 'O'), ('yang', 'SC', 'O'), ('diharamkan', 'VBT', 'O'), ('untuk', 'IN', 'O'), ('muslim', 'NN', 'O')]\n",
      "Test sent: [('Sampai', 'VBT', 'O'), ('sekarang', 'NN', 'O'), ('mereka', 'PRP', 'O'), ('belum', 'NEG', 'O'), ('menangani', 'VBT', 'O'), ('informasi', 'NN', 'O'), ('dengan', 'IN', 'O'), ('baik', 'JJ', 'O')]\n",
      "Test sent: [('Jadi', 'JJ', 'O'), ('kami', 'PRP', 'I-PER'), ('harap', 'NN', 'O'), ('di', 'IN', 'O'), ('hari', 'NN', 'O')]\n",
      "Test sent: [('hari', 'NN', 'O'), ('mendatang', 'NN', 'O'), ('mereka', 'PRP', 'O'), ('bisa', 'MD', 'O'), ('memperbaiki', 'VBT', 'O'), ('hal', 'NN', 'O'), ('ini', 'DT', 'O'), ('untuk', 'IN', 'O'), ('memisahkan', 'VBT', 'O'), ('makanan', 'NN', 'O'), ('halal', 'NN', 'O'), ('dan', 'CC', 'O'), ('non', 'NEG', 'O')]\n",
      "Test sent: [('halal,', 'NN', 'O')]\n",
      "Test sent: [('kata', 'VBT', 'O'), ('Media', 'NNP', 'I-ORG'), ('Officer', 'FW', 'I-ORG'), ('Timnas', 'NN', 'I-ORG'), ('Indonesia', 'NNP', 'I-LOC')]\n",
      "Test sent: [('Gatot', 'NNP', 'B-PER'), ('Widakdo', 'NNP', 'I-PER')]\n",
      "Test sent: [('Ketua', 'NN', 'B-ORG'), ('Umum', 'JJ', 'I-ORG'), ('PB', 'NNP', 'I-ORG'), ('Persatuan', 'NN', 'I-ORG'), ('Senam', 'NN', 'I-ORG'), ('Indonesia', 'NNP', 'I-LOC')]\n",
      "Test sent: [('Persani)', 'NN', 'I-ORG')]\n",
      "Test sent: [('Ita', 'NNP', 'B-PER'), ('Yualita', 'NNP', 'I-PER')]\n",
      "Test sent: [('membantah', 'VBT', 'O'), ('anggapan', 'NN', 'O'), ('yang', 'SC', 'O'), ('menyatakan', 'VBT', 'O'), ('bahwa', 'SC', 'O'), ('harus', 'MD', 'O'), ('ada', 'VBI', 'O'), ('tes', 'NN', 'O'), ('keperawanan', 'NN', 'O'), ('untuk', 'IN', 'O'), ('atlet', 'NN', 'I-PER'), ('senam', 'NN', 'O')]\n",
      "Test sent: [('Sebelumnya', 'NNG', 'O'), ('pencoretan', 'NN', 'O'), ('atlet', 'NN', 'I-PER'), ('pelatnas', 'NN', 'O'), ('SEA', 'NN', 'I-ORG'), ('Games', 'NN', 'I-ORG'), ('2019', 'CDP', 'I-ORG')]\n",
      "Test sent: [('Shalfa', 'NNP', 'B-PER'), ('Avrila', 'NNP', 'I-PER'), ('Siani', 'NNP', 'I-PER')]\n",
      "Test sent: [('menuai', 'VBT', 'O'), ('kontroversi', 'NN', 'O')]\n",
      "Test sent: [('Pasalnya', 'NNP', 'O')]\n",
      "Test sent: [('pencoretan', 'NN', 'O'), ('itu', 'DT', 'O'), ('disebut', 'VBT', 'O'), ('pihak', 'NN', 'O'), ('keluarga', 'NN', 'O'), ('Shalfa', 'NNP', 'I-PER'), ('karena', 'CC', 'O'), ('sang', 'RP', 'O'), ('atlet', 'NN', 'I-PER'), ('sudah', 'RB', 'O'), ('tidak', 'NEG', 'O'), ('perawan', 'NN', 'O')]\n",
      "Test sent: [('Tak', 'NEG', 'O'), ('pelak', 'NN', 'O')]\n",
      "Test sent: [('mencuat', 'VBT', 'O'), ('pula', 'RB', 'O'), ('anggapan', 'NN', 'O'), ('bahwa', 'SC', 'O'), ('masalah', 'NN', 'O'), ('keperawanan', 'NN', 'O'), ('jadi', 'JJ', 'O'), ('salah', 'JJ', 'O'), ('satu', 'CDP', 'O'), ('penentu', 'NN', 'O'), ('untuk', 'IN', 'O'), ('seleksi', 'NN', 'O'), ('atlet', 'NN', 'I-PER'), ('senam', 'NN', 'O')]\n",
      "Test sent: [('Ita', 'NN', 'B-PER'), ('Yualita', 'NNP', 'I-PER'), ('pada', 'IN', 'O'), ('konferensi', 'NN', 'O'), ('pers', 'NN', 'O'), ('di', 'IN', 'O'), ('Kantor', 'NN', 'I-LOC'), ('Kemenpora', 'NN', 'I-ORG')]\n",
      "Test sent: [('Jumat', 'NN', 'O'), ('(', 'OP', 'O'), ('28/11)', '11)', 'O')]\n",
      "Test sent: [('langsung', 'JJ', 'O'), ('membantah', 'VBT', 'O'), ('anggapan', 'NN', 'O'), ('tersebut', 'DT', 'O')]\n",
      "Test sent: [('Kami', 'PRP', 'B-PER'), ('pilih', 'NN', 'O'), ('atlet', 'NN', 'O'), ('berdasarkan', 'VBT', 'O'), ('prestasi', 'NN', 'O'), ('dan', 'CC', 'O'), ('kami', 'PRP', 'O'), ('sampaikan', 'VBT', 'O'), ('ke', 'IN', 'O'), ('CdM', 'NNP', 'I-ORG')]\n",
      "Test sent: [('Chef', 'NNP', 'B-ORG'), ('de', 'NNP', 'I-ORG'), ('Mission', 'NNP', 'I-ORG')]\n",
      "Test sent: [('dan', 'CC', 'O'), ('Menpora', 'NN', 'I-ORG'), ('soal', 'NN', 'O'), ('perubahan', 'NN', 'O'), ('nama', 'NN', 'O')]\n",
      "Test sent: [('atlet', 'NN', 'O'), ('senam', 'NN', 'O'), ('yang', 'SC', 'O'), ('berangkat', 'VBI', 'O'), ('ke', 'IN', 'O'), ('SEA', 'NN', 'I-ORG'), ('Games],', 'NN', 'I-ORG')]\n",
      "Test sent: [('ujar', 'VBT', 'O'), ('Ita', 'NN', 'I-PER')]\n",
      "Test sent: [('Saya', 'PRP', 'B-PER'), ('tanya', 'VBT', 'O'), ('ke', 'IN', 'O'), ('pelatih', 'NN', 'I-PER')]\n",
      "Test sent: [('apakah', 'WP', 'O'), ('ada', 'VBI', 'O'), ('persyaratan', 'NN', 'O'), ('keperawanan', 'NN', 'O'), ('di', 'IN', 'O'), ('senam', 'NN', 'O')]\n",
      "Test sent: [('Kami', 'PRP', 'O'), ('yakin', 'JJ', 'O'), ('itu', 'DT', 'O'), ('tidak', 'NEG', 'O'), ('ada', 'VBI', 'O'), ('karena', 'CC', 'O'), ('ada', 'VBI', 'O'), ('juga', 'RB', 'O'), ('atlet', 'NN', 'O'), ('yang', 'SC', 'O'), ('sudah', 'MD', 'O'), ('menikah', 'VBT', 'O')]\n",
      "Test sent: [('Di', 'IN', 'O'), ('ajang', 'NN', 'O'), ('internasional', 'JJ', 'O')]\n",
      "Test sent: [('di', 'IN', 'O'), ('Olimpiade', 'NNP', 'I-ORG')]\n",
      "Test sent: [('ada', 'VBI', 'O'), ('Oksana', 'NNP', 'I-PER')]\n",
      "Test sent: [('Chusovitina', 'NNP', 'B-PER'), ('atlet', 'NN', 'I-ORG'), ('senam', 'NN', 'I-ORG')]\n",
      "Test sent: [('tahun', 'NN', 'O'), ('sudah', 'MD', 'O'), ('punya', 'VBT', 'O'), ('anak', 'NN', 'I-PER')]\n",
      "Test sent: [('Jadi', 'JJ', 'O'), ('tak', 'NEG', 'O'), ('ada', 'VBI', 'O'), ('masalah,', 'NN', 'O')]\n",
      "Test sent: [('kata', 'VBT', 'O'), ('Ita', 'NN', 'I-PER')]\n",
      "Test sent: [('Lebih', 'RB', 'O'), ('lanjut', 'VBT', 'O')]\n",
      "Test sent: [('Ita', 'NNP', 'B-PER'), ('masih', 'RB', 'O'), ('terus', 'RB', 'O'), ('mencari', 'VBT', 'O'), ('tahu', 'VBI', 'O'), ('yang', 'SC', 'O'), ('sebenarnya', 'RB', 'O'), ('terjadi', 'VBI', 'O'), ('terkait', 'VBT', 'O'), ('pernyataan', 'NN', 'O'), ('keluarga', 'NN', 'O'), ('yang', 'SC', 'O'), ('menyebut', 'VBT', 'O'), ('Shalfa', 'NNP', 'I-PER'), ('dicoret', 'VBT', 'O'), ('karena', 'CC', 'O'), ('dinilai', 'VBT', 'O'), ('sudah', 'RB', 'O'), ('tak', 'NEG', 'O'), ('perawan', 'NN', 'O'), ('oleh', 'IN', 'O'), ('pelatih', 'NN', 'I-PER')]\n",
      "Test sent: [('Apa', 'WP', 'O'), ('betul', 'NN', 'O'), ('tes', 'NN', 'O'), ('dilakukan?', 'VBT', 'O')]\n",
      "Test sent: [('Kami', 'PRP', 'O'), ('belum', 'NEG', 'O'), ('dapat', 'MD', 'O'), ('jawaban', 'NN', 'O')]\n",
      "Test sent: [('Saya', 'PRP', 'B-PER'), ('mau', 'CC', 'O'), ('kronologis', 'JJ', 'O'), ('tertulis', 'VBI', 'O')]\n",
      "Test sent: [('Saya', 'PRP', 'B-PER'), ('tidak', 'NEG', 'O'), ('mengerti', 'VBT', 'O'), ('informasi', 'NN', 'O'), ('itu', 'DT', 'O')]\n",
      "Test sent: [('Saya', 'PRP', 'B-BER'), ('sampaikan', 'VBT', 'O'), ('ke', 'IN', 'O'), ('Menpora', 'NN', 'I-ORG'), ('dan', 'CC', 'O'), ('hasil', 'NN', 'O'), ('kejurnas', 'NN', 'O'), ('itu', 'DT', 'O'), ('jd', 'NN', 'O'), ('pertimbangan,', 'NN', 'O')]\n",
      "Test sent: [('kata', 'VBT', 'O'), ('Ita', 'NN', 'I-PER')]\n"
     ]
    }
   ],
   "source": [
    "for row in data_test.iterrows():\n",
    "    word = row[1][0]\n",
    "    tag = row[1][1]\n",
    "    label = row[1][2]\n",
    "    if not row[1].isnull()[2]:\n",
    "        t = (word, tag, label)\n",
    "        sent.append(t)\n",
    "    else:\n",
    "        if len(sent) == 0:\n",
    "            continue\n",
    "        print('Test sent:', sent)\n",
    "        test_sents.append(sent)\n",
    "        sent = []"
   ]
  },
  {
   "cell_type": "code",
   "execution_count": 13,
   "metadata": {},
   "outputs": [],
   "source": [
    "def word2features(sent, i):\n",
    "    word = sent[i][0]\n",
    "    postag = sent[i][1]\n",
    "    features = [\n",
    "        'bias',\n",
    "        'word.lower=' + word.lower(),\n",
    "        'word[-3:]=' + word[-3:],\n",
    "        'word[-2:]=' + word[-2:],\n",
    "        'word.isupper=%s' % word.isupper(),\n",
    "        'word.istitle=%s' % word.istitle(),\n",
    "        'word.isdigit=%s' % word.isdigit(),\n",
    "        'postag=' + postag,\n",
    "        'postag[:2]=' + postag[:2],\n",
    "    ]\n",
    "    if i > 0:\n",
    "        word1 = sent[i-1][0]\n",
    "        postag1 = sent[i-1][1]\n",
    "        features.extend([\n",
    "            '-1:word.lower=' + word1.lower(),\n",
    "            '-1:word.istitle=%s' % word1.istitle(),\n",
    "            '-1:word.isupper=%s' % word1.isupper(),\n",
    "            '-1:postag=' + postag1,\n",
    "            '-1:postag[:2]=' + postag1[:2],\n",
    "        ])\n",
    "    else:\n",
    "        features.append('BOS')\n",
    "        \n",
    "    if i < len(sent)-1:\n",
    "        word1 = sent[i+1][0]\n",
    "        postag1 = sent[i+1][1]\n",
    "        features.extend([\n",
    "            '+1:word.lower=' + word1.lower(),\n",
    "            '+1:word.istitle=%s' % word1.istitle(),\n",
    "            '+1:word.isupper=%s' % word1.isupper(),\n",
    "            '+1:postag=' + postag1,\n",
    "            '+1:postag[:2]=' + postag1[:2],\n",
    "        ])\n",
    "    else:\n",
    "        features.append('EOS')\n",
    "                \n",
    "    return features"
   ]
  },
  {
   "cell_type": "code",
   "execution_count": 14,
   "metadata": {},
   "outputs": [],
   "source": [
    "def sent2features(sent):\n",
    "    return [word2features(sent, i) for i in range(len(sent))]\n",
    "\n",
    "def sent2labels(sent):\n",
    "    return [label for token, postag, label in sent]\n",
    "\n",
    "def sent2tokens(sent):\n",
    "    return [token for token, postag, label in sent]  "
   ]
  },
  {
   "cell_type": "code",
   "execution_count": 15,
   "metadata": {},
   "outputs": [
    {
     "name": "stdout",
     "output_type": "stream",
     "text": [
      "['bias', 'word.lower=sea', 'word[-3:]=SEA', 'word[-2:]=EA', 'word.isupper=True', 'word.istitle=False', 'word.isdigit=False', 'postag=NN', 'postag[:2]=NN', 'BOS', '+1:word.lower=games', '+1:word.istitle=False', '+1:word.isupper=True', '+1:postag=NN', '+1:postag[:2]=NN']\n"
     ]
    }
   ],
   "source": [
    "print(sent2features(train_sents[0])[0])"
   ]
  },
  {
   "cell_type": "code",
   "execution_count": 16,
   "metadata": {},
   "outputs": [],
   "source": [
    "X_train = [sent2features(s) for s in train_sents]\n",
    "y_train = [sent2labels(s) for s in train_sents]\n",
    "\n",
    "X_test = [sent2features(s) for s in test_sents]\n",
    "y_test = [sent2labels(s) for s in test_sents]"
   ]
  },
  {
   "cell_type": "code",
   "execution_count": 17,
   "metadata": {},
   "outputs": [],
   "source": [
    "trainer = pycrfsuite.Trainer(verbose=False)"
   ]
  },
  {
   "cell_type": "code",
   "execution_count": 18,
   "metadata": {},
   "outputs": [],
   "source": [
    "for xseq, yseq in zip(X_train, y_train):\n",
    "    trainer.append(xseq, yseq)"
   ]
  },
  {
   "cell_type": "code",
   "execution_count": 19,
   "metadata": {},
   "outputs": [],
   "source": [
    "trainer.set_params({\n",
    "    'c1': 1.0,   # coefficient for L1 penalty\n",
    "    'c2': 1e-3,  # coefficient for L2 penalty\n",
    "    'max_iterations': 50,  # stop earlier\n",
    "\n",
    "    # include transitions that are possible, but not observed\n",
    "    'feature.possible_transitions': True\n",
    "})"
   ]
  },
  {
   "cell_type": "code",
   "execution_count": 20,
   "metadata": {},
   "outputs": [
    {
     "data": {
      "text/plain": [
       "<contextlib.closing at 0x18ba4cde288>"
      ]
     },
     "execution_count": 20,
     "metadata": {},
     "output_type": "execute_result"
    }
   ],
   "source": [
    "trainer.train('sample.crfsuite')\n",
    "\n",
    "tagger = pycrfsuite.Tagger()\n",
    "tagger.open('sample.crfsuite')"
   ]
  },
  {
   "cell_type": "code",
   "execution_count": 21,
   "metadata": {},
   "outputs": [
    {
     "name": "stdout",
     "output_type": "stream",
     "text": [
      "Pada pemberitaan sebelumnya\n",
      "\n"
     ]
    }
   ],
   "source": [
    "example_sent = test_sents[0]\n",
    "print(' '.join(sent2tokens(example_sent)), end='\\n\\n')"
   ]
  },
  {
   "cell_type": "code",
   "execution_count": 22,
   "metadata": {},
   "outputs": [
    {
     "name": "stdout",
     "output_type": "stream",
     "text": [
      "Predicted: O O O\n",
      "Correct:   O O O\n"
     ]
    }
   ],
   "source": [
    "print(\"Predicted:\", ' '.join(tagger.tag(sent2features(example_sent))))\n",
    "print(\"Correct:  \", ' '.join(sent2labels(example_sent)))"
   ]
  },
  {
   "cell_type": "code",
   "execution_count": 23,
   "metadata": {},
   "outputs": [],
   "source": [
    "predicted = []\n",
    "target = []\n",
    "for sent in test_sents:\n",
    "    pred = tagger.tag(sent2features(sent))\n",
    "    tar = sent2labels(sent)\n",
    "    for p, t in zip(pred, tar):\n",
    "        predicted.append(p)\n",
    "        target.append(t)"
   ]
  },
  {
   "cell_type": "code",
   "execution_count": 24,
   "metadata": {},
   "outputs": [
    {
     "name": "stdout",
     "output_type": "stream",
     "text": [
      "Akurasi: 0.8004866180048662\n"
     ]
    }
   ],
   "source": [
    "correct = 0\n",
    "for p, t in zip(predicted, target):\n",
    "    if p == t:\n",
    "        correct += 1\n",
    "print('Akurasi:', correct/len(predicted))"
   ]
  },
  {
   "cell_type": "code",
   "execution_count": null,
   "metadata": {},
   "outputs": [],
   "source": []
  }
 ],
 "metadata": {
  "kernelspec": {
   "display_name": "Python 3",
   "language": "python",
   "name": "python3"
  },
  "language_info": {
   "codemirror_mode": {
    "name": "ipython",
    "version": 3
   },
   "file_extension": ".py",
   "mimetype": "text/x-python",
   "name": "python",
   "nbconvert_exporter": "python",
   "pygments_lexer": "ipython3",
   "version": "3.7.4"
  }
 },
 "nbformat": 4,
 "nbformat_minor": 2
}
