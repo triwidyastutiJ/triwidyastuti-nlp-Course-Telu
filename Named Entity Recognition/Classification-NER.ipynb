import nltk
from sklearn.metrics import classification_report, confusion_matrix
from sklearn.preprocessing import LabelBinarizer
import sklearn
from sklearn.feature_extraction import DictVectorizer
from sklearn.feature_extraction.text import HashingVectorizer
import numpy as np
import pandas as pd
import re
